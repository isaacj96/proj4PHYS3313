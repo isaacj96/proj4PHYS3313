{
 "cells": [
  {
   "cell_type": "code",
   "execution_count": 75,
   "metadata": {},
   "outputs": [],
   "source": [
    "import os\n",
    "import numpy as np\n",
    "import scipy as sp\n",
    "import pandas as pd\n",
    "\n",
    "import matplotlib.pyplot as plt\n",
    "%matplotlib inline"
   ]
  },
  {
   "cell_type": "code",
   "execution_count": 90,
   "metadata": {},
   "outputs": [
    {
     "name": "stdout",
     "output_type": "stream",
     "text": [
      "   Number  ApertureRA  ApertureDec  CentroidRA  CentroidDec  ApertureX  \\\n",
      "0       1  251.803662    -1.953681  251.803621    -1.953633        225   \n",
      "1       2  251.799170    -1.953682  251.799148    -1.953657        306   \n",
      "\n",
      "   ApertureY  CentroidX  CentroidY  CentroidFlag  SourceIntensityB  \\\n",
      "0         12    225.740     12.872             1           4048.45   \n",
      "1         12    306.405     12.439             1           1692.64   \n",
      "\n",
      "   SourceIntensityV  ApertureCorr  SourceUncertainty DataUnits  Magnitude  \\\n",
      "0          16301.10             1            417.742      D.N.   -10.5305   \n",
      "1           8048.89             1            211.281      D.N.    -9.7643   \n",
      "\n",
      "   MagUncertainty  SourceModel SkyModel  SkyMedian    SkyMode  SkyAverage  \\\n",
      "0          0.0278            2        B  43.647095  22.503784   59.942854   \n",
      "1          0.0285            2        B  27.605402  20.153803   39.717787   \n",
      "\n",
      "   SkyLocalNonAnnulusBkg     SkyRMS  SkyCustom   SkySigma   SkyScale  \\\n",
      "0              29.902069  75.375061          0  45.745294  39.861088   \n",
      "1              19.111019  50.652523          0  31.470090  19.057299   \n",
      "\n",
      "   RadiusCentroid  ApertureMajorRadius  ApertureMinorRadius  \\\n",
      "0               5                    5                    5   \n",
      "1               5                    5                    5   \n",
      "\n",
      "   ApertureRotationAngle  SkyRadiusInner  SkyRadiusOuter  ApertureNumPixels  \\\n",
      "0                      0               8              15              79.04   \n",
      "1                      0               8              15              79.04   \n",
      "\n",
      "   ApertureNumRejected  SkyNumPixels  RadialProfileFWHM  Flags  \\\n",
      "0                    0           478               3.73      0   \n",
      "1                    0           452               3.37      0   \n",
      "\n",
      "                                               Image  \n",
      "0  /Volumes/IsaacPortableSSD/Programming/PHYS3313...  \n",
      "1  /Volumes/IsaacPortableSSD/Programming/PHYS3313...  \n"
     ]
    }
   ],
   "source": [
    "#bmag = pd.read_csv('/Users/Astrophysics/data/B.csv')\n",
    "\n",
    "# data in apparent magnitudes m\n",
    "data = pd.read_csv('M12_V.csv')\n",
    "print(data[:2])\n",
    "\n",
    "# Isochrones/models in absolute magnitudes M\n",
    "iso1 = pd.read_csv('t2.5e8.csv')\n",
    "iso2 = pd.read_csv('t7.5e8.csv')\n",
    "iso3 = pd.read_csv('t1e9.csv')"
   ]
  },
  {
   "cell_type": "code",
   "execution_count": 91,
   "metadata": {},
   "outputs": [],
   "source": [
    "def mag(mags=0, flux=0, fluxs=0):\n",
    "    return mags-2.5*np.log10(flux/fluxs)"
   ]
  },
  {
   "cell_type": "code",
   "execution_count": 92,
   "metadata": {},
   "outputs": [
    {
     "name": "stderr",
     "output_type": "stream",
     "text": [
      "/var/folders/4f/dj3ccsfj7n96_pqqw9zrw7mr0000gn/T/ipykernel_12014/2535742495.py:2: RuntimeWarning: invalid value encountered in log10\n",
      "  return mags-2.5*np.log10(flux/fluxs)\n"
     ]
    }
   ],
   "source": [
    "requestedindex = data.iloc[3022] # x = 157 y = 1142 from slides\n",
    "b_standed = 15.53 # from slides\n",
    "v_standed = 15.40 # from slides\n",
    "b_standared_flux = data.iloc[3022]['SourceIntensityB']\n",
    "v_standed_flux = data.iloc[3022]['SourceIntensityV']\n",
    "\n",
    "b_fluxes = data['SourceIntensityB']\n",
    "v_fluxes = data['SourceIntensityV']\n",
    "\n",
    "# Calculate the absolute magnitude of the star\n",
    "b_mag = np.array([mag(mags=b_standed, flux=flux, fluxs=b_standared_flux) for flux in b_fluxes])\n",
    "v_mag = np.array([mag(mags=v_standed, flux=flux, fluxs=v_standed_flux) for flux in v_fluxes])"
   ]
  },
  {
   "cell_type": "code",
   "execution_count": 93,
   "metadata": {},
   "outputs": [
    {
     "data": {
      "text/plain": [
       "(16.0, 4.0)"
      ]
     },
     "execution_count": 93,
     "metadata": {},
     "output_type": "execute_result"
    },
    {
     "data": {
      "image/png": "[encoded data removed]",
      "text/plain": [
       "<Figure size 360x360 with 1 Axes>"
      ]
     },
     "metadata": {
      "needs_background": "light"
     },
     "output_type": "display_data"
    }
   ],
   "source": [
    "# Distance modulus mu = m - M\n",
    "# mu = 6.\n",
    "mu = 7.5\n",
    "\n",
    "plt.figure(figsize=(5, 5))\n",
    "\n",
    "# plot data\n",
    "# plt.plot(data['B1mag']-data['V1mag'], data['V1mag'], '.')\n",
    "plt.plot(b_mag-v_mag, v_mag, '.', label='data')\n",
    "\n",
    "# plot models\n",
    "plt.plot(iso1['Bmag']-iso1['Vmag'], iso1['Vmag']+mu)\n",
    "plt.plot(iso2['Bmag']-iso2['Vmag'], iso2['Vmag']+mu)\n",
    "plt.plot(iso3['Bmag']-iso3['Vmag'], iso3['Vmag']+mu)\n",
    "\n",
    "plt.xlabel('B - V')\n",
    "plt.ylabel('V')\n",
    "plt.xlim(-1, 4)\n",
    "plt.ylim(16, 4)"
   ]
  },
  {
   "cell_type": "code",
   "execution_count": 94,
   "metadata": {},
   "outputs": [
    {
     "name": "stdout",
     "output_type": "stream",
     "text": [
      "Distance to M44 cluster: 316.2 pc\n"
     ]
    }
   ],
   "source": [
    "print('Distance to M44 cluster:', round(10**(mu/5+1),1), 'pc')"
   ]
  },
  {
   "cell_type": "code",
   "execution_count": null,
   "metadata": {
    "collapsed": true
   },
   "outputs": [],
   "source": []
  }
 ],
 "metadata": {
  "kernelspec": {
   "display_name": "Python 3.9.12 ('base')",
   "language": "python",
   "name": "python3"
  },
  "language_info": {
   "codemirror_mode": {
    "name": "ipython",
    "version": 3
   },
   "file_extension": ".py",
   "mimetype": "text/x-python",
   "name": "python",
   "nbconvert_exporter": "python",
   "pygments_lexer": "ipython3",
   "version": "3.9.12"
  },
  "vscode": {
   "interpreter": {
    "hash": "693c00fa8418b19f638d6dfb365558236547b342a61b20608daae386841ba60e"
   }
  }
 },
 "nbformat": 4,
 "nbformat_minor": 2
}
